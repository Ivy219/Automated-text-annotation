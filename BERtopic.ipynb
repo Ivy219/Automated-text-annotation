{
 "cells": [
  {
   "cell_type": "code",
   "execution_count": null,
   "metadata": {},
   "outputs": [],
   "source": [
    "pip install bertopic\n"
   ]
  },
  {
   "cell_type": "markdown",
   "metadata": {},
   "source": [
    "# Trial with one paragraph \n",
    "### - data too small as BERTopic requires UMAP and HDBSCAN perform better with datasets of at least 50–100 documents."
   ]
  },
  {
   "cell_type": "code",
   "execution_count": null,
   "metadata": {},
   "outputs": [],
   "source": [
    "pip install tf-keras"
   ]
  },
  {
   "cell_type": "code",
   "execution_count": 1,
   "metadata": {},
   "outputs": [
    {
     "name": "stderr",
     "output_type": "stream",
     "text": [
      "d:\\envs\\annotate\\lib\\site-packages\\tqdm\\auto.py:21: TqdmWarning: IProgress not found. Please update jupyter and ipywidgets. See https://ipywidgets.readthedocs.io/en/stable/user_install.html\n",
      "  from .autonotebook import tqdm as notebook_tqdm\n"
     ]
    },
    {
     "name": "stdout",
     "output_type": "stream",
     "text": [
      "WARNING:tensorflow:From d:\\envs\\annotate\\lib\\site-packages\\tf_keras\\src\\losses.py:2976: The name tf.losses.sparse_softmax_cross_entropy is deprecated. Please use tf.compat.v1.losses.sparse_softmax_cross_entropy instead.\n",
      "\n"
     ]
    },
    {
     "ename": "ValueError",
     "evalue": "k must be less than or equal to the number of training points",
     "output_type": "error",
     "traceback": [
      "\u001b[1;31m---------------------------------------------------------------------------\u001b[0m",
      "\u001b[1;31mValueError\u001b[0m                                Traceback (most recent call last)",
      "Cell \u001b[1;32mIn[1], line 25\u001b[0m\n\u001b[0;32m     22\u001b[0m topic_model \u001b[38;5;241m=\u001b[39m BERTopic(umap_model\u001b[38;5;241m=\u001b[39mumap_model)\n\u001b[0;32m     24\u001b[0m \u001b[38;5;66;03m# Fit the model to your dataset\u001b[39;00m\n\u001b[1;32m---> 25\u001b[0m topics, probs \u001b[38;5;241m=\u001b[39m \u001b[43mtopic_model\u001b[49m\u001b[38;5;241;43m.\u001b[39;49m\u001b[43mfit_transform\u001b[49m\u001b[43m(\u001b[49m\u001b[43mdocuments\u001b[49m\u001b[43m)\u001b[49m\n\u001b[0;32m     27\u001b[0m \u001b[38;5;66;03m# Reduce the number of topics\u001b[39;00m\n\u001b[0;32m     28\u001b[0m topic_model\u001b[38;5;241m.\u001b[39mreduce_topics(documents, nr_topics\u001b[38;5;241m=\u001b[39m\u001b[38;5;241m2\u001b[39m)\n",
      "File \u001b[1;32md:\\envs\\annotate\\lib\\site-packages\\bertopic\\_bertopic.py:463\u001b[0m, in \u001b[0;36mBERTopic.fit_transform\u001b[1;34m(self, documents, embeddings, images, y)\u001b[0m\n\u001b[0;32m    459\u001b[0m         umap_embeddings \u001b[38;5;241m=\u001b[39m \u001b[38;5;28mself\u001b[39m\u001b[38;5;241m.\u001b[39mumap_model\u001b[38;5;241m.\u001b[39mtransform(embeddings)\n\u001b[0;32m    461\u001b[0m \u001b[38;5;28;01mif\u001b[39;00m \u001b[38;5;28mlen\u001b[39m(documents) \u001b[38;5;241m>\u001b[39m \u001b[38;5;241m0\u001b[39m:\n\u001b[0;32m    462\u001b[0m     \u001b[38;5;66;03m# Cluster reduced embeddings\u001b[39;00m\n\u001b[1;32m--> 463\u001b[0m     documents, probabilities \u001b[38;5;241m=\u001b[39m \u001b[38;5;28;43mself\u001b[39;49m\u001b[38;5;241;43m.\u001b[39;49m\u001b[43m_cluster_embeddings\u001b[49m\u001b[43m(\u001b[49m\u001b[43mumap_embeddings\u001b[49m\u001b[43m,\u001b[49m\u001b[43m \u001b[49m\u001b[43mdocuments\u001b[49m\u001b[43m,\u001b[49m\u001b[43m \u001b[49m\u001b[43my\u001b[49m\u001b[38;5;241;43m=\u001b[39;49m\u001b[43my\u001b[49m\u001b[43m)\u001b[49m\n\u001b[0;32m    464\u001b[0m     \u001b[38;5;28;01mif\u001b[39;00m \u001b[38;5;28mself\u001b[39m\u001b[38;5;241m.\u001b[39m_is_zeroshot() \u001b[38;5;129;01mand\u001b[39;00m \u001b[38;5;28mlen\u001b[39m(assigned_documents) \u001b[38;5;241m>\u001b[39m \u001b[38;5;241m0\u001b[39m:\n\u001b[0;32m    465\u001b[0m         documents, embeddings \u001b[38;5;241m=\u001b[39m \u001b[38;5;28mself\u001b[39m\u001b[38;5;241m.\u001b[39m_combine_zeroshot_topics(\n\u001b[0;32m    466\u001b[0m             documents, embeddings, assigned_documents, assigned_embeddings\n\u001b[0;32m    467\u001b[0m         )\n",
      "File \u001b[1;32md:\\envs\\annotate\\lib\\site-packages\\bertopic\\_bertopic.py:3778\u001b[0m, in \u001b[0;36mBERTopic._cluster_embeddings\u001b[1;34m(self, umap_embeddings, documents, partial_fit, y)\u001b[0m\n\u001b[0;32m   3776\u001b[0m \u001b[38;5;28;01melse\u001b[39;00m:\n\u001b[0;32m   3777\u001b[0m     \u001b[38;5;28;01mtry\u001b[39;00m:\n\u001b[1;32m-> 3778\u001b[0m         \u001b[38;5;28;43mself\u001b[39;49m\u001b[38;5;241;43m.\u001b[39;49m\u001b[43mhdbscan_model\u001b[49m\u001b[38;5;241;43m.\u001b[39;49m\u001b[43mfit\u001b[49m\u001b[43m(\u001b[49m\u001b[43mumap_embeddings\u001b[49m\u001b[43m,\u001b[49m\u001b[43m \u001b[49m\u001b[43my\u001b[49m\u001b[38;5;241;43m=\u001b[39;49m\u001b[43my\u001b[49m\u001b[43m)\u001b[49m\n\u001b[0;32m   3779\u001b[0m     \u001b[38;5;28;01mexcept\u001b[39;00m \u001b[38;5;167;01mTypeError\u001b[39;00m:\n\u001b[0;32m   3780\u001b[0m         \u001b[38;5;28mself\u001b[39m\u001b[38;5;241m.\u001b[39mhdbscan_model\u001b[38;5;241m.\u001b[39mfit(umap_embeddings)\n",
      "File \u001b[1;32md:\\envs\\annotate\\lib\\site-packages\\hdbscan\\hdbscan_.py:1270\u001b[0m, in \u001b[0;36mHDBSCAN.fit\u001b[1;34m(self, X, y)\u001b[0m\n\u001b[0;32m   1267\u001b[0m     \u001b[38;5;28mself\u001b[39m\u001b[38;5;241m.\u001b[39mprobabilities_ \u001b[38;5;241m=\u001b[39m new_probabilities\n\u001b[0;32m   1269\u001b[0m \u001b[38;5;28;01mif\u001b[39;00m \u001b[38;5;28mself\u001b[39m\u001b[38;5;241m.\u001b[39mprediction_data:\n\u001b[1;32m-> 1270\u001b[0m     \u001b[38;5;28;43mself\u001b[39;49m\u001b[38;5;241;43m.\u001b[39;49m\u001b[43mgenerate_prediction_data\u001b[49m\u001b[43m(\u001b[49m\u001b[43m)\u001b[49m\n\u001b[0;32m   1271\u001b[0m \u001b[38;5;28;01mif\u001b[39;00m \u001b[38;5;28mself\u001b[39m\u001b[38;5;241m.\u001b[39mbranch_detection_data:\n\u001b[0;32m   1272\u001b[0m     \u001b[38;5;28mself\u001b[39m\u001b[38;5;241m.\u001b[39mgenerate_branch_detection_data()\n",
      "File \u001b[1;32md:\\envs\\annotate\\lib\\site-packages\\hdbscan\\hdbscan_.py:1311\u001b[0m, in \u001b[0;36mHDBSCAN.generate_prediction_data\u001b[1;34m(self)\u001b[0m\n\u001b[0;32m   1308\u001b[0m         warn(\u001b[38;5;124m\"\u001b[39m\u001b[38;5;124mMetric \u001b[39m\u001b[38;5;132;01m{}\u001b[39;00m\u001b[38;5;124m not supported for prediction data!\u001b[39m\u001b[38;5;124m\"\u001b[39m\u001b[38;5;241m.\u001b[39mformat(\u001b[38;5;28mself\u001b[39m\u001b[38;5;241m.\u001b[39mmetric))\n\u001b[0;32m   1309\u001b[0m         \u001b[38;5;28;01mreturn\u001b[39;00m\n\u001b[1;32m-> 1311\u001b[0m     \u001b[38;5;28mself\u001b[39m\u001b[38;5;241m.\u001b[39m_prediction_data \u001b[38;5;241m=\u001b[39m PredictionData(\n\u001b[0;32m   1312\u001b[0m         \u001b[38;5;28mself\u001b[39m\u001b[38;5;241m.\u001b[39m_raw_data,\n\u001b[0;32m   1313\u001b[0m         \u001b[38;5;28mself\u001b[39m\u001b[38;5;241m.\u001b[39mcondensed_tree_,\n\u001b[0;32m   1314\u001b[0m         min_samples,\n\u001b[0;32m   1315\u001b[0m         tree_type\u001b[38;5;241m=\u001b[39mtree_type,\n\u001b[0;32m   1316\u001b[0m         metric\u001b[38;5;241m=\u001b[39m\u001b[38;5;28mself\u001b[39m\u001b[38;5;241m.\u001b[39mmetric,\n\u001b[0;32m   1317\u001b[0m         \u001b[38;5;241m*\u001b[39m\u001b[38;5;241m*\u001b[39m\u001b[38;5;28mself\u001b[39m\u001b[38;5;241m.\u001b[39m_metric_kwargs\n\u001b[0;32m   1318\u001b[0m     )\n\u001b[0;32m   1319\u001b[0m \u001b[38;5;28;01melse\u001b[39;00m:\n\u001b[0;32m   1320\u001b[0m     warn(\n\u001b[0;32m   1321\u001b[0m         \u001b[38;5;124m\"\u001b[39m\u001b[38;5;124mCannot generate prediction data for non-vector\u001b[39m\u001b[38;5;124m\"\u001b[39m\n\u001b[0;32m   1322\u001b[0m         \u001b[38;5;124m\"\u001b[39m\u001b[38;5;124mspace inputs -- access to the source data rather\u001b[39m\u001b[38;5;124m\"\u001b[39m\n\u001b[0;32m   1323\u001b[0m         \u001b[38;5;124m\"\u001b[39m\u001b[38;5;124mthan mere distances is required!\u001b[39m\u001b[38;5;124m\"\u001b[39m\n\u001b[0;32m   1324\u001b[0m     )\n",
      "File \u001b[1;32md:\\envs\\annotate\\lib\\site-packages\\hdbscan\\prediction.py:103\u001b[0m, in \u001b[0;36mPredictionData.__init__\u001b[1;34m(self, data, condensed_tree, min_samples, tree_type, metric, **kwargs)\u001b[0m\n\u001b[0;32m    100\u001b[0m \u001b[38;5;28mself\u001b[39m\u001b[38;5;241m.\u001b[39mraw_data \u001b[38;5;241m=\u001b[39m data\u001b[38;5;241m.\u001b[39mastype(np\u001b[38;5;241m.\u001b[39mfloat64)\n\u001b[0;32m    101\u001b[0m \u001b[38;5;28mself\u001b[39m\u001b[38;5;241m.\u001b[39mtree \u001b[38;5;241m=\u001b[39m \u001b[38;5;28mself\u001b[39m\u001b[38;5;241m.\u001b[39m_tree_type_map[tree_type](\u001b[38;5;28mself\u001b[39m\u001b[38;5;241m.\u001b[39mraw_data,\n\u001b[0;32m    102\u001b[0m                                            metric\u001b[38;5;241m=\u001b[39mmetric, \u001b[38;5;241m*\u001b[39m\u001b[38;5;241m*\u001b[39mkwargs)\n\u001b[1;32m--> 103\u001b[0m \u001b[38;5;28mself\u001b[39m\u001b[38;5;241m.\u001b[39mcore_distances \u001b[38;5;241m=\u001b[39m \u001b[38;5;28;43mself\u001b[39;49m\u001b[38;5;241;43m.\u001b[39;49m\u001b[43mtree\u001b[49m\u001b[38;5;241;43m.\u001b[39;49m\u001b[43mquery\u001b[49m\u001b[43m(\u001b[49m\u001b[43mdata\u001b[49m\u001b[43m,\u001b[49m\u001b[43m \u001b[49m\u001b[43mk\u001b[49m\u001b[38;5;241;43m=\u001b[39;49m\u001b[43mmin_samples\u001b[49m\u001b[43m)\u001b[49m[\u001b[38;5;241m0\u001b[39m][:, \u001b[38;5;241m-\u001b[39m\u001b[38;5;241m1\u001b[39m]\n\u001b[0;32m    104\u001b[0m \u001b[38;5;28mself\u001b[39m\u001b[38;5;241m.\u001b[39mdist_metric \u001b[38;5;241m=\u001b[39m DistanceMetric\u001b[38;5;241m.\u001b[39mget_metric(metric, \u001b[38;5;241m*\u001b[39m\u001b[38;5;241m*\u001b[39mkwargs)\n\u001b[0;32m    106\u001b[0m selected_clusters \u001b[38;5;241m=\u001b[39m \u001b[38;5;28msorted\u001b[39m(condensed_tree\u001b[38;5;241m.\u001b[39m_select_clusters())\n",
      "File \u001b[1;32msklearn\\\\neighbors\\\\_binary_tree.pxi:1180\u001b[0m, in \u001b[0;36msklearn.neighbors._kd_tree.BinaryTree64.query\u001b[1;34m()\u001b[0m\n",
      "\u001b[1;31mValueError\u001b[0m: k must be less than or equal to the number of training points"
     ]
    }
   ],
   "source": [
    "from umap import UMAP\n",
    "from bertopic import BERTopic\n",
    "\n",
    "# Sample dataset (replace with your dataset)\n",
    "documents = [\n",
    "    \"Climate change is a pressing issue affecting the entire planet.\",\n",
    "    \"We need renewable energy solutions to combat global warming.\",\n",
    "    \"Carbon emissions have reached an all-time high in recent years.\",\n",
    "    \"Sustainability is key to preserving our environment.\",\n",
    "    \"What are the economic impacts of climate policies?\"\n",
    "]\n",
    "\n",
    "# Define a UMAP model with compatible parameters\n",
    "umap_model = UMAP(\n",
    "    n_neighbors=2,  # Lower for small datasets\n",
    "    n_components=2,  # Reduced dimensions, small for small datasets\n",
    "    metric='cosine',  # Distance metric\n",
    "    init='random'  # Avoid spectral initialization issues\n",
    ")\n",
    "\n",
    "# Pass the custom UMAP model to BERTopic\n",
    "topic_model = BERTopic(umap_model=umap_model)\n",
    "\n",
    "# Fit the model to your dataset\n",
    "topics, probs = topic_model.fit_transform(documents)\n",
    "\n",
    "# Reduce the number of topics\n",
    "topic_model.reduce_topics(documents, nr_topics=2)\n",
    "\n",
    "# View the topics\n",
    "print(topic_model.get_topic_info())\n",
    "\n",
    "# Get keywords for a specific topic\n",
    "print(topic_model.get_topic(0))  # Replace 0 with the topic ID of interest\n"
   ]
  },
  {
   "cell_type": "markdown",
   "metadata": {},
   "source": [
    "# Trial 2.1 with transcript2008-2018.zip (no stop words removed)"
   ]
  },
  {
   "cell_type": "code",
   "execution_count": null,
   "metadata": {},
   "outputs": [],
   "source": [
    "import os\n",
    "import zipfile\n",
    "\n",
    "# Path to the ZIP file\n",
    "zip_path = r\"D:\\dev\\annotate\\Automated-text-annotation\\transcripts2008-2018.zip\"\n",
    "extracted_path = r\"D:\\dev\\annotate\\Automated-text-annotation\\Extract transcripts 2008-2018\"\n",
    "\n",
    "# Extract ZIP file\n",
    "with zipfile.ZipFile(zip_path, 'r') as zip_ref:\n",
    "    zip_ref.extractall(extracted_path)\n",
    "\n",
    "# Load all `.txt` files into a list\n",
    "documents = []\n",
    "for file_name in os.listdir(extracted_path):\n",
    "    if file_name.endswith(\".txt\"):\n",
    "        file_path = os.path.join(extracted_path, file_name)\n",
    "        with open(file_path, 'r', encoding='utf-8') as file:\n",
    "            documents.append(file.read())\n"
   ]
  },
  {
   "cell_type": "code",
   "execution_count": null,
   "metadata": {},
   "outputs": [
    {
     "name": "stdout",
     "output_type": "stream",
     "text": [
      "    Topic  Count                        Name  \\\n",
      "0      -1   1315            -1_the_and_to_of   \n",
      "1       0    100             0_and_the_of_to   \n",
      "2       1     77             1_the_to_in_and   \n",
      "3       2     74        2_universe_the_of_we   \n",
      "4       3     71          3_energy_the_we_to   \n",
      "..    ...    ...                         ...   \n",
      "57     56     12             56_la_da_li_heh   \n",
      "58     57     12       57_the_and_animals_to   \n",
      "59     58     11          58_the_and_in_that   \n",
      "60     59     11        59_fashion_to_the_it   \n",
      "61     60     10  60_blind_me_wheelchair_the   \n",
      "\n",
      "                                       Representation  \\\n",
      "0       [the, and, to, of, that, in, you, is, we, it]   \n",
      "1     [and, the, of, to, it, that, this, you, so, in]   \n",
      "2     [the, to, in, and, of, was, that, is, we, they]   \n",
      "3   [universe, the, of, we, is, that, this, and, i...   \n",
      "4   [energy, the, we, to, and, is, of, that, in, c...   \n",
      "..                                                ...   \n",
      "57  [la, da, li, heh, thank, sos, my, marries, jan...   \n",
      "58  [the, and, animals, to, in, of, lions, it, the...   \n",
      "59  [the, and, in, that, of, to, science, you, it,...   \n",
      "60  [fashion, to, the, it, that, clothes, and, of,...   \n",
      "61  [blind, me, wheelchair, the, to, my, and, in, ...   \n",
      "\n",
      "                                  Representative_Docs  \n",
      "0   [Thank you so much.\\nI am a journalist.\\n\\nMy ...  \n",
      "1   [I was basically concerned about what was goin...  \n",
      "2   [There's a man by the name of Captain\\nWilliam...  \n",
      "3   [So in 1781, an English composer,\\ntechnologis...  \n",
      "4   [It was my first year\\nas an atmospheric scien...  \n",
      "..                                                ...  \n",
      "57  [♫ Feminists don't have a sense of humor. ♫\\n\\...  \n",
      "58  [Now, I'm an ethnobotanist.\\nThat's a scientis...  \n",
      "59  [What do you guys think?\\nFor those who watche...  \n",
      "60  [Let's talk about thrift.\\nThrift is a concept...  \n",
      "61  [So, stepping down out of the bus,\\nI headed b...  \n",
      "\n",
      "[62 rows x 5 columns]\n"
     ]
    }
   ],
   "source": [
    "from bertopic import BERTopic\n",
    "\n",
    "# Initialize BERTopic\n",
    "topic_model = BERTopic()\n",
    "\n",
    "# Fit the model to dataset\n",
    "topics, probs = topic_model.fit_transform(documents)\n",
    "\n",
    "# View the topics\n",
    "print(topic_model.get_topic_info())\n"
   ]
  },
  {
   "cell_type": "code",
   "execution_count": null,
   "metadata": {},
   "outputs": [
    {
     "name": "stderr",
     "output_type": "stream",
     "text": [
      "2024-12-10 18:27:57,014 - BERTopic - WARNING: When you use `pickle` to save/load a BERTopic model,please make sure that the environments in which you saveand load the model are **exactly** the same. The version of BERTopic,its dependencies, and python need to remain the same.\n"
     ]
    }
   ],
   "source": [
    "# # Visualize the topics\n",
    "# topic_model.visualize_topics()\n",
    "\n",
    "# # Visualize topic probabilities\n",
    "# topic_model.visualize_barchart()\n",
    "\n",
    "# # Save the model for future use\n",
    "# topic_model.save(\"bertopic_model\")\n"
   ]
  },
  {
   "cell_type": "markdown",
   "metadata": {},
   "source": [
    "# Trial 2.2 with transcript2008-2018.zip (stop words removed)"
   ]
  },
  {
   "cell_type": "code",
   "execution_count": 3,
   "metadata": {},
   "outputs": [
    {
     "name": "stdout",
     "output_type": "stream",
     "text": [
      "Collecting nltk\n",
      "  Using cached nltk-3.9.1-py3-none-any.whl.metadata (2.9 kB)\n",
      "Requirement already satisfied: click in d:\\envs\\annotate\\lib\\site-packages (from nltk) (8.1.7)\n",
      "Requirement already satisfied: joblib in d:\\envs\\annotate\\lib\\site-packages (from nltk) (1.4.2)\n",
      "Requirement already satisfied: regex>=2021.8.3 in d:\\envs\\annotate\\lib\\site-packages (from nltk) (2024.11.6)\n",
      "Requirement already satisfied: tqdm in d:\\envs\\annotate\\lib\\site-packages (from nltk) (4.67.1)\n",
      "Requirement already satisfied: colorama in d:\\envs\\annotate\\lib\\site-packages (from click->nltk) (0.4.6)\n",
      "Using cached nltk-3.9.1-py3-none-any.whl (1.5 MB)\n",
      "Installing collected packages: nltk\n",
      "Successfully installed nltk-3.9.1\n",
      "Note: you may need to restart the kernel to use updated packages.\n"
     ]
    },
    {
     "name": "stderr",
     "output_type": "stream",
     "text": [
      "  WARNING: The script nltk.exe is installed in 'd:\\envs\\annotate\\Scripts' which is not on PATH.\n",
      "  Consider adding this directory to PATH or, if you prefer to suppress this warning, use --no-warn-script-location.\n"
     ]
    }
   ],
   "source": [
    "pip install nltk"
   ]
  },
  {
   "cell_type": "code",
   "execution_count": 5,
   "metadata": {},
   "outputs": [
    {
     "name": "stderr",
     "output_type": "stream",
     "text": [
      "[nltk_data] Downloading package punkt_tab to\n",
      "[nltk_data]     C:\\Users\\HUAWEI\\AppData\\Roaming\\nltk_data...\n",
      "[nltk_data]   Unzipping tokenizers\\punkt_tab.zip.\n",
      "[nltk_data] Downloading package stopwords to\n",
      "[nltk_data]     C:\\Users\\HUAWEI\\AppData\\Roaming\\nltk_data...\n",
      "[nltk_data]   Package stopwords is already up-to-date!\n",
      "[nltk_data] Downloading package punkt to\n",
      "[nltk_data]     C:\\Users\\HUAWEI\\AppData\\Roaming\\nltk_data...\n",
      "[nltk_data]   Package punkt is already up-to-date!\n"
     ]
    },
    {
     "name": "stdout",
     "output_type": "stream",
     "text": [
      "    Topic  Count                                      Name  \\\n",
      "0      -1   1317          -1_money_technology_water_health   \n",
      "1       0    165              0_men_war_refugees_democracy   \n",
      "2       1    117             1_universe_earth_mars_planets   \n",
      "3       2    116            2_energy_climate_nuclear_solar   \n",
      "4       3     93       3_brain_neurons_cells_consciousness   \n",
      "5       4     91      4_city_cities_architecture_buildings   \n",
      "6       5     76           5_patients_health_heart_patient   \n",
      "7       6     59            6_china_growth_chinese_economy   \n",
      "8       7     54               7_art_artists_design_artist   \n",
      "9       8     52            8_bacteria_dna_genome_microbes   \n",
      "10      9     48    9_company_business_employees_companies   \n",
      "11     10     47          10_musical_piano_orchestra_piece   \n",
      "12     11     46              11_fish_sharks_ocean_fishing   \n",
      "13     12     42             12_cancer_cells_tumor_disease   \n",
      "14     13     39               13_humor_laugh_gay_laughing   \n",
      "15     14     36   14_students_education_teachers_learning   \n",
      "16     15     32  15_mathematics_math_numbers_mathematical   \n",
      "17     16     31              16_ancient_king_script_indus   \n",
      "18     17     29                       17_rebel_oh_mama_na   \n",
      "19     18     29                   18_mom_dad_girls_father   \n",
      "20     19     29             19_prison_justice_jail_police   \n",
      "21     20     29            20_happiness_self_desire_money   \n",
      "22     21     27            21_robot_robots_body_materials   \n",
      "23     22     26       22_ai_computer_machine_intelligence   \n",
      "24     23     26                        23_ted_talks_jm_eh   \n",
      "25     24     25         24_africa_african_continent_lagos   \n",
      "26     25     24            25_robot_robots_physical_video   \n",
      "27     26     24             26_bees_insects_pollen_spider   \n",
      "28     27     24              27_black_white_racism_racial   \n",
      "29     28     21                  28_male_female_males_sex   \n",
      "30     29     21      29_compassion_religion_religious_god   \n",
      "31     30     19            30_babies_baby_autism_pregnant   \n",
      "32     31     19                  31_water_river_sand_land   \n",
      "33     32     18                  32_flag_flags_awesome_tk   \n",
      "34     33     18                33_girls_mother_father_war   \n",
      "35     34     18          34_stress_anxiety_disorder_brain   \n",
      "36     35     17    35_language_languages_english_spelling   \n",
      "37     36     16                 36_food_bread_chinese_tea   \n",
      "38     37     16           37_india_village_indian_english   \n",
      "39     38     15        38_passwords_internet_code_hackers   \n",
      "40     39     14              39_record_sb_scripts_records   \n",
      "41     40     14               40_hiv_drugs_treatment_drug   \n",
      "42     41     13            41_ice_antarctica_pole_glacier   \n",
      "43     42     13            42_hate_holocaust_fury_twitter   \n",
      "44     43     13           43_ebola_vaccine_virus_vaccines   \n",
      "45     44     12           44_birds_species_pigeon_mammoth   \n",
      "46     45     12          45_aging_older_genes_immortality   \n",
      "47     46     12             46_families_child_parents_dog   \n",
      "48     47     11                   47_car_cars_driver_road   \n",
      "49     48     11           48_pornography_sex_sexual_teens   \n",
      "50     49     10         49_zone_math_performance_learning   \n",
      "\n",
      "                                       Representation  \\\n",
      "0   [money, technology, water, health, body, men, ...   \n",
      "1   [men, war, refugees, democracy, political, gov...   \n",
      "2   [universe, earth, mars, planets, stars, galaxy...   \n",
      "3   [energy, climate, nuclear, solar, oil, plastic...   \n",
      "4   [brain, neurons, cells, consciousness, brains,...   \n",
      "5   [city, cities, architecture, buildings, design...   \n",
      "6   [patients, health, heart, patient, medical, ca...   \n",
      "7   [china, growth, chinese, economy, economic, co...   \n",
      "8   [art, artists, design, artist, painting, proje...   \n",
      "9   [bacteria, dna, genome, microbes, evolution, s...   \n",
      "10  [company, business, employees, companies, lead...   \n",
      "11  [musical, piano, orchestra, piece, notes, musi...   \n",
      "12  [fish, sharks, ocean, fishing, shark, sea, spe...   \n",
      "13  [cancer, cells, tumor, disease, cell, blood, d...   \n",
      "14  [humor, laugh, gay, laughing, shame, yeah, yor...   \n",
      "15  [students, education, teachers, learning, clas...   \n",
      "16  [mathematics, math, numbers, mathematical, stu...   \n",
      "17  [ancient, king, script, indus, rome, henry, gr...   \n",
      "18  [rebel, oh, mama, na, rock, sing, yeah, dance,...   \n",
      "19  [mom, dad, girls, father, girl, disney, superh...   \n",
      "20  [prison, justice, jail, police, prisons, crimi...   \n",
      "21  [happiness, self, desire, money, disgust, joy,...   \n",
      "22  [robot, robots, body, materials, soft, materia...   \n",
      "23  [ai, computer, machine, intelligence, machines...   \n",
      "24  [ted, talks, jm, eh, value, di, began, voice, ...   \n",
      "25  [africa, african, continent, lagos, nigeria, g...   \n",
      "26  [robot, robots, physical, video, digital, comp...   \n",
      "27  [bees, insects, pollen, spider, silk, plant, d...   \n",
      "28  [black, white, racism, racial, movement, patri...   \n",
      "29  [male, female, males, sex, sperm, clitoris, al...   \n",
      "30  [compassion, religion, religious, god, religio...   \n",
      "31  [babies, baby, autism, pregnant, mothers, birt...   \n",
      "32  [water, river, sand, land, climate, desert, ci...   \n",
      "33  [flag, flags, awesome, tk, clouds, memory, sou...   \n",
      "34  [girls, mother, father, war, african, educatio...   \n",
      "35  [stress, anxiety, disorder, brain, depression,...   \n",
      "36  [language, languages, english, spelling, spani...   \n",
      "37  [food, bread, chinese, tea, choice, eat, dough...   \n",
      "38  [india, village, indian, english, china, educa...   \n",
      "39  [passwords, internet, code, hackers, online, c...   \n",
      "40  [record, sb, scripts, records, rover, dna, mar...   \n",
      "41  [hiv, drugs, treatment, drug, aids, infected, ...   \n",
      "42  [ice, antarctica, pole, glacier, sheet, snow, ...   \n",
      "43  [hate, holocaust, fury, twitter, racist, hatef...   \n",
      "44  [ebola, vaccine, virus, vaccines, polio, flu, ...   \n",
      "45  [birds, species, pigeon, mammoth, passenger, f...   \n",
      "46  [aging, older, genes, immortality, suspended, ...   \n",
      "47  [families, child, parents, dog, hospital, kid,...   \n",
      "48  [car, cars, driver, road, vehicle, driving, tr...   \n",
      "49  [pornography, sex, sexual, teens, devices, gir...   \n",
      "50  [zone, math, performance, learning, transforma...   \n",
      "\n",
      "                                  Representative_Docs  \n",
      "0   [chris anderson welcome next edition ted dialo...  \n",
      "1   [ever wondered extremism seems rise countries ...  \n",
      "2   [large hadron collider 27 kilometers circumfer...  \n",
      "3   [going talk today energy climate might seem bi...  \n",
      "4   [hello everybody brought today baby diaper see...  \n",
      "5   [thought would start brief history cities sett...  \n",
      "6   [probably surprise like hospital go hospital s...  \n",
      "7   [world changing really remarkable speed look c...  \n",
      "8   [kind tired talking simplicity actually though...  \n",
      "9   [know talked projects human genome might mean ...  \n",
      "10  [ever watched flock birds work together thousa...  \n",
      "11  [conductor today talk trust job depends upon o...  \n",
      "12  [oceans cover 70 percent planet think arthur c...  \n",
      "13  [declaring war cancer win war 2015 us congress...  \n",
      "14  [hi going talk today laughter want start think...  \n",
      "15  [thank much moved america 12 years ago wife te...  \n",
      "16  [would mathematics exist people since ancient ...  \n",
      "17  [great texts ancient world survive us original...  \n",
      "18  [music singing walking line trying find peace ...  \n",
      "19  [awesome story begins 40 years ago mom dad cam...  \n",
      "20  [never arrested never spent night jail never l...  \n",
      "21  [cheat happy people cheat say infidelity exact...  \n",
      "22  [first robot talk called strider stands triped...  \n",
      "23  [offer new way think field artificial intellig...  \n",
      "24  [nothing else least discovered put speakers sw...  \n",
      "25  [narrative rising africa challenged 10 years a...  \n",
      "26  [day 10 years ago asked friend hold baby dinos...  \n",
      "27  [like really quickly sort nod person right nod...  \n",
      "28  [mia birdsong black lives matter important us ...  \n",
      "29  [evolutionary tango animal genitalia guess loo...  \n",
      "30  [going talk compassion golden rule secular per...  \n",
      "31  [want take look baby drawn eyes skin love touc...  \n",
      "32  [march 2017 mayor cape town officially declare...  \n",
      "33  [want start experiment going play three videos...  \n",
      "34  [search always find ways chronicle share docum...  \n",
      "35  [first antidepressants made things rocket fuel...  \n",
      "36  [talk english often think single language dial...  \n",
      "37  [wheat bread whole wheat bread made new techni...  \n",
      "38  [like take another world like share 45 love st...  \n",
      "39  [computer science engineering professor carneg...  \n",
      "40  [weekend tens millions people united states te...  \n",
      "41  [people stupid things spreads hiv headline new...  \n",
      "42  [let go south actually going south direction s...  \n",
      "43  [early days twitter like place radical people ...  \n",
      "44  [worry going kill heart disease cancer car acc...  \n",
      "45  [lush rainforests australia birds roost low br...  \n",
      "46  [microscopic lab worm elegans life equates sho...  \n",
      "47  [across europe central asia approximately one ...  \n",
      "48  [let face driving dangerous one things like th...  \n",
      "49  [going share lot secrets today hope lift shame...  \n",
      "50  [spent nearly two decades observing makes peop...  \n"
     ]
    }
   ],
   "source": [
    "import os\n",
    "import zipfile\n",
    "from bertopic import BERTopic\n",
    "from nltk.corpus import stopwords\n",
    "from nltk.tokenize import word_tokenize\n",
    "import nltk\n",
    "\n",
    "# Ensure NLTK resources are downloaded\n",
    "nltk.download('stopwords')\n",
    "nltk.download('punkt')\n",
    "nltk.download('punkt_tab')\n",
    "\n",
    "# Define stopwords\n",
    "stop_words = set(stopwords.words('english'))\n",
    "\n",
    "# Path to your ZIP file\n",
    "zip_path = r\"D:\\dev\\annotate\\Automated-text-annotation\\transcripts2008-2018.zip\"\n",
    "extracted_path = r\"D:\\dev\\annotate\\Automated-text-annotation\\Extract transcripts 2008-2018\"\n",
    "\n",
    "# Extract ZIP file\n",
    "with zipfile.ZipFile(zip_path, 'r') as zip_ref:\n",
    "    zip_ref.extractall(extracted_path)\n",
    "\n",
    "# Preprocessing function\n",
    "def preprocess_text(doc):\n",
    "    tokens = word_tokenize(doc.lower())  # Tokenize and convert to lowercase\n",
    "    return ' '.join(word for word in tokens if word.isalnum() and word not in stop_words)\n",
    "\n",
    "# Load all `.txt` files into a list\n",
    "documents = []\n",
    "for file_name in os.listdir(extracted_path):\n",
    "    if file_name.endswith(\".txt\"):\n",
    "        file_path = os.path.join(extracted_path, file_name)\n",
    "        with open(file_path, 'r', encoding='utf-8') as file:\n",
    "            raw_text = file.read()\n",
    "            cleaned_text = preprocess_text(raw_text)  # Preprocess each document\n",
    "            documents.append(cleaned_text)\n",
    "\n",
    "# Initialize BERTopic with custom vectorizer\n",
    "from sklearn.feature_extraction.text import CountVectorizer\n",
    "vectorizer = CountVectorizer(stop_words='english', max_df=0.95, min_df=5, max_features=10000)\n",
    "topic_model = BERTopic(vectorizer_model=vectorizer)\n",
    "\n",
    "# Fit the model to dataset\n",
    "topics, probs = topic_model.fit_transform(documents)\n",
    "\n",
    "# View the topics\n",
    "print(topic_model.get_topic_info())\n"
   ]
  },
  {
   "cell_type": "code",
   "execution_count": 6,
   "metadata": {},
   "outputs": [
    {
     "data": {
      "application/vnd.plotly.v1+json": {
       "config": {
        "plotlyServerURL": "https://plot.ly"
       },
       "data": [
        {
         "marker": {
          "color": "#D55E00"
         },
         "orientation": "h",
         "type": "bar",
         "x": [
          0.01080964535965313,
          0.010833303765193475,
          0.011633946662443958,
          0.012475829306998056,
          0.013598543788470363
         ],
         "xaxis": "x",
         "y": [
          "political  ",
          "democracy  ",
          "refugees  ",
          "war  ",
          "men  "
         ],
         "yaxis": "y"
        },
        {
         "marker": {
          "color": "#0072B2"
         },
         "orientation": "h",
         "type": "bar",
         "x": [
          0.024864314040549982,
          0.02516672947791066,
          0.02621808495290964,
          0.026970351801415708,
          0.04447018094390224
         ],
         "xaxis": "x2",
         "y": [
          "stars  ",
          "planets  ",
          "mars  ",
          "earth  ",
          "universe  "
         ],
         "yaxis": "y2"
        },
        {
         "marker": {
          "color": "#CC79A7"
         },
         "orientation": "h",
         "type": "bar",
         "x": [
          0.017426765606591472,
          0.01826676539894283,
          0.02313694620455671,
          0.0243813240240458,
          0.031639347599711695
         ],
         "xaxis": "x3",
         "y": [
          "oil  ",
          "solar  ",
          "nuclear  ",
          "climate  ",
          "energy  "
         ],
         "yaxis": "y3"
        },
        {
         "marker": {
          "color": "#E69F00"
         },
         "orientation": "h",
         "type": "bar",
         "x": [
          0.017958638900953075,
          0.01839856286943139,
          0.021419994102762623,
          0.03103804881544338,
          0.0847592111629403
         ],
         "xaxis": "x4",
         "y": [
          "brains  ",
          "consciousness  ",
          "cells  ",
          "neurons  ",
          "brain  "
         ],
         "yaxis": "y4"
        },
        {
         "marker": {
          "color": "#56B4E9"
         },
         "orientation": "h",
         "type": "bar",
         "x": [
          0.013949155375399798,
          0.016761456201905067,
          0.021745053648175375,
          0.03526245811300615,
          0.0391198208119302
         ],
         "xaxis": "x5",
         "y": [
          "design  ",
          "buildings  ",
          "architecture  ",
          "cities  ",
          "city  "
         ],
         "yaxis": "y5"
        },
        {
         "marker": {
          "color": "#009E73"
         },
         "orientation": "h",
         "type": "bar",
         "x": [
          0.024531388625045294,
          0.02610630787092505,
          0.02693013627737894,
          0.0292213376460183,
          0.03034391379842702
         ],
         "xaxis": "x6",
         "y": [
          "medical  ",
          "patient  ",
          "heart  ",
          "health  ",
          "patients  "
         ],
         "yaxis": "y6"
        },
        {
         "marker": {
          "color": "#F0E442"
         },
         "orientation": "h",
         "type": "bar",
         "x": [
          0.01733206975167564,
          0.017444560063198694,
          0.020270060320468793,
          0.03128925418018228,
          0.035269241403175174
         ],
         "xaxis": "x7",
         "y": [
          "economic  ",
          "economy  ",
          "chinese  ",
          "growth  ",
          "china  "
         ],
         "yaxis": "y7"
        },
        {
         "marker": {
          "color": "#D55E00"
         },
         "orientation": "h",
         "type": "bar",
         "x": [
          0.013894801395881602,
          0.014040029713245894,
          0.014999201679354576,
          0.01501232948972034,
          0.03259884422876145
         ],
         "xaxis": "x8",
         "y": [
          "painting  ",
          "artist  ",
          "design  ",
          "artists  ",
          "art  "
         ],
         "yaxis": "y8"
        },
        {
         "marker": {
          "color": "#0072B2"
         },
         "orientation": "h",
         "type": "bar",
         "x": [
          0.02248107284900094,
          0.02552030426594162,
          0.02569346073424986,
          0.03904634287670683,
          0.04110368879901154
         ],
         "xaxis": "x9",
         "y": [
          "evolution  ",
          "microbes  ",
          "genome  ",
          "dna  ",
          "bacteria  "
         ],
         "yaxis": "y9"
        },
        {
         "marker": {
          "color": "#CC79A7"
         },
         "orientation": "h",
         "type": "bar",
         "x": [
          0.01440735961294107,
          0.016339116877131767,
          0.01649551430744244,
          0.01810499438578057,
          0.020246629416911292
         ],
         "xaxis": "x10",
         "y": [
          "leadership  ",
          "companies  ",
          "employees  ",
          "business  ",
          "company  "
         ],
         "yaxis": "y10"
        }
       ],
       "layout": {
        "annotations": [
         {
          "font": {
           "size": 16
          },
          "showarrow": false,
          "text": "Topic 0",
          "x": 0.0875,
          "xanchor": "center",
          "xref": "paper",
          "y": 1,
          "yanchor": "bottom",
          "yref": "paper"
         },
         {
          "font": {
           "size": 16
          },
          "showarrow": false,
          "text": "Topic 1",
          "x": 0.36250000000000004,
          "xanchor": "center",
          "xref": "paper",
          "y": 1,
          "yanchor": "bottom",
          "yref": "paper"
         },
         {
          "font": {
           "size": 16
          },
          "showarrow": false,
          "text": "Topic 2",
          "x": 0.6375000000000001,
          "xanchor": "center",
          "xref": "paper",
          "y": 1,
          "yanchor": "bottom",
          "yref": "paper"
         },
         {
          "font": {
           "size": 16
          },
          "showarrow": false,
          "text": "Topic 3",
          "x": 0.9125,
          "xanchor": "center",
          "xref": "paper",
          "y": 1,
          "yanchor": "bottom",
          "yref": "paper"
         },
         {
          "font": {
           "size": 16
          },
          "showarrow": false,
          "text": "Topic 4",
          "x": 0.0875,
          "xanchor": "center",
          "xref": "paper",
          "y": 0.6222222222222222,
          "yanchor": "bottom",
          "yref": "paper"
         },
         {
          "font": {
           "size": 16
          },
          "showarrow": false,
          "text": "Topic 5",
          "x": 0.36250000000000004,
          "xanchor": "center",
          "xref": "paper",
          "y": 0.6222222222222222,
          "yanchor": "bottom",
          "yref": "paper"
         },
         {
          "font": {
           "size": 16
          },
          "showarrow": false,
          "text": "Topic 6",
          "x": 0.6375000000000001,
          "xanchor": "center",
          "xref": "paper",
          "y": 0.6222222222222222,
          "yanchor": "bottom",
          "yref": "paper"
         },
         {
          "font": {
           "size": 16
          },
          "showarrow": false,
          "text": "Topic 7",
          "x": 0.9125,
          "xanchor": "center",
          "xref": "paper",
          "y": 0.6222222222222222,
          "yanchor": "bottom",
          "yref": "paper"
         },
         {
          "font": {
           "size": 16
          },
          "showarrow": false,
          "text": "Topic 8",
          "x": 0.0875,
          "xanchor": "center",
          "xref": "paper",
          "y": 0.24444444444444446,
          "yanchor": "bottom",
          "yref": "paper"
         },
         {
          "font": {
           "size": 16
          },
          "showarrow": false,
          "text": "Topic 9",
          "x": 0.36250000000000004,
          "xanchor": "center",
          "xref": "paper",
          "y": 0.24444444444444446,
          "yanchor": "bottom",
          "yref": "paper"
         }
        ],
        "height": 750,
        "hoverlabel": {
         "bgcolor": "white",
         "font": {
          "family": "Rockwell",
          "size": 16
         }
        },
        "showlegend": false,
        "template": {
         "data": {
          "bar": [
           {
            "error_x": {
             "color": "#2a3f5f"
            },
            "error_y": {
             "color": "#2a3f5f"
            },
            "marker": {
             "line": {
              "color": "white",
              "width": 0.5
             },
             "pattern": {
              "fillmode": "overlay",
              "size": 10,
              "solidity": 0.2
             }
            },
            "type": "bar"
           }
          ],
          "barpolar": [
           {
            "marker": {
             "line": {
              "color": "white",
              "width": 0.5
             },
             "pattern": {
              "fillmode": "overlay",
              "size": 10,
              "solidity": 0.2
             }
            },
            "type": "barpolar"
           }
          ],
          "carpet": [
           {
            "aaxis": {
             "endlinecolor": "#2a3f5f",
             "gridcolor": "#C8D4E3",
             "linecolor": "#C8D4E3",
             "minorgridcolor": "#C8D4E3",
             "startlinecolor": "#2a3f5f"
            },
            "baxis": {
             "endlinecolor": "#2a3f5f",
             "gridcolor": "#C8D4E3",
             "linecolor": "#C8D4E3",
             "minorgridcolor": "#C8D4E3",
             "startlinecolor": "#2a3f5f"
            },
            "type": "carpet"
           }
          ],
          "choropleth": [
           {
            "colorbar": {
             "outlinewidth": 0,
             "ticks": ""
            },
            "type": "choropleth"
           }
          ],
          "contour": [
           {
            "colorbar": {
             "outlinewidth": 0,
             "ticks": ""
            },
            "colorscale": [
             [
              0,
              "#0d0887"
             ],
             [
              0.1111111111111111,
              "#46039f"
             ],
             [
              0.2222222222222222,
              "#7201a8"
             ],
             [
              0.3333333333333333,
              "#9c179e"
             ],
             [
              0.4444444444444444,
              "#bd3786"
             ],
             [
              0.5555555555555556,
              "#d8576b"
             ],
             [
              0.6666666666666666,
              "#ed7953"
             ],
             [
              0.7777777777777778,
              "#fb9f3a"
             ],
             [
              0.8888888888888888,
              "#fdca26"
             ],
             [
              1,
              "#f0f921"
             ]
            ],
            "type": "contour"
           }
          ],
          "contourcarpet": [
           {
            "colorbar": {
             "outlinewidth": 0,
             "ticks": ""
            },
            "type": "contourcarpet"
           }
          ],
          "heatmap": [
           {
            "colorbar": {
             "outlinewidth": 0,
             "ticks": ""
            },
            "colorscale": [
             [
              0,
              "#0d0887"
             ],
             [
              0.1111111111111111,
              "#46039f"
             ],
             [
              0.2222222222222222,
              "#7201a8"
             ],
             [
              0.3333333333333333,
              "#9c179e"
             ],
             [
              0.4444444444444444,
              "#bd3786"
             ],
             [
              0.5555555555555556,
              "#d8576b"
             ],
             [
              0.6666666666666666,
              "#ed7953"
             ],
             [
              0.7777777777777778,
              "#fb9f3a"
             ],
             [
              0.8888888888888888,
              "#fdca26"
             ],
             [
              1,
              "#f0f921"
             ]
            ],
            "type": "heatmap"
           }
          ],
          "heatmapgl": [
           {
            "colorbar": {
             "outlinewidth": 0,
             "ticks": ""
            },
            "colorscale": [
             [
              0,
              "#0d0887"
             ],
             [
              0.1111111111111111,
              "#46039f"
             ],
             [
              0.2222222222222222,
              "#7201a8"
             ],
             [
              0.3333333333333333,
              "#9c179e"
             ],
             [
              0.4444444444444444,
              "#bd3786"
             ],
             [
              0.5555555555555556,
              "#d8576b"
             ],
             [
              0.6666666666666666,
              "#ed7953"
             ],
             [
              0.7777777777777778,
              "#fb9f3a"
             ],
             [
              0.8888888888888888,
              "#fdca26"
             ],
             [
              1,
              "#f0f921"
             ]
            ],
            "type": "heatmapgl"
           }
          ],
          "histogram": [
           {
            "marker": {
             "pattern": {
              "fillmode": "overlay",
              "size": 10,
              "solidity": 0.2
             }
            },
            "type": "histogram"
           }
          ],
          "histogram2d": [
           {
            "colorbar": {
             "outlinewidth": 0,
             "ticks": ""
            },
            "colorscale": [
             [
              0,
              "#0d0887"
             ],
             [
              0.1111111111111111,
              "#46039f"
             ],
             [
              0.2222222222222222,
              "#7201a8"
             ],
             [
              0.3333333333333333,
              "#9c179e"
             ],
             [
              0.4444444444444444,
              "#bd3786"
             ],
             [
              0.5555555555555556,
              "#d8576b"
             ],
             [
              0.6666666666666666,
              "#ed7953"
             ],
             [
              0.7777777777777778,
              "#fb9f3a"
             ],
             [
              0.8888888888888888,
              "#fdca26"
             ],
             [
              1,
              "#f0f921"
             ]
            ],
            "type": "histogram2d"
           }
          ],
          "histogram2dcontour": [
           {
            "colorbar": {
             "outlinewidth": 0,
             "ticks": ""
            },
            "colorscale": [
             [
              0,
              "#0d0887"
             ],
             [
              0.1111111111111111,
              "#46039f"
             ],
             [
              0.2222222222222222,
              "#7201a8"
             ],
             [
              0.3333333333333333,
              "#9c179e"
             ],
             [
              0.4444444444444444,
              "#bd3786"
             ],
             [
              0.5555555555555556,
              "#d8576b"
             ],
             [
              0.6666666666666666,
              "#ed7953"
             ],
             [
              0.7777777777777778,
              "#fb9f3a"
             ],
             [
              0.8888888888888888,
              "#fdca26"
             ],
             [
              1,
              "#f0f921"
             ]
            ],
            "type": "histogram2dcontour"
           }
          ],
          "mesh3d": [
           {
            "colorbar": {
             "outlinewidth": 0,
             "ticks": ""
            },
            "type": "mesh3d"
           }
          ],
          "parcoords": [
           {
            "line": {
             "colorbar": {
              "outlinewidth": 0,
              "ticks": ""
             }
            },
            "type": "parcoords"
           }
          ],
          "pie": [
           {
            "automargin": true,
            "type": "pie"
           }
          ],
          "scatter": [
           {
            "fillpattern": {
             "fillmode": "overlay",
             "size": 10,
             "solidity": 0.2
            },
            "type": "scatter"
           }
          ],
          "scatter3d": [
           {
            "line": {
             "colorbar": {
              "outlinewidth": 0,
              "ticks": ""
             }
            },
            "marker": {
             "colorbar": {
              "outlinewidth": 0,
              "ticks": ""
             }
            },
            "type": "scatter3d"
           }
          ],
          "scattercarpet": [
           {
            "marker": {
             "colorbar": {
              "outlinewidth": 0,
              "ticks": ""
             }
            },
            "type": "scattercarpet"
           }
          ],
          "scattergeo": [
           {
            "marker": {
             "colorbar": {
              "outlinewidth": 0,
              "ticks": ""
             }
            },
            "type": "scattergeo"
           }
          ],
          "scattergl": [
           {
            "marker": {
             "colorbar": {
              "outlinewidth": 0,
              "ticks": ""
             }
            },
            "type": "scattergl"
           }
          ],
          "scattermapbox": [
           {
            "marker": {
             "colorbar": {
              "outlinewidth": 0,
              "ticks": ""
             }
            },
            "type": "scattermapbox"
           }
          ],
          "scatterpolar": [
           {
            "marker": {
             "colorbar": {
              "outlinewidth": 0,
              "ticks": ""
             }
            },
            "type": "scatterpolar"
           }
          ],
          "scatterpolargl": [
           {
            "marker": {
             "colorbar": {
              "outlinewidth": 0,
              "ticks": ""
             }
            },
            "type": "scatterpolargl"
           }
          ],
          "scatterternary": [
           {
            "marker": {
             "colorbar": {
              "outlinewidth": 0,
              "ticks": ""
             }
            },
            "type": "scatterternary"
           }
          ],
          "surface": [
           {
            "colorbar": {
             "outlinewidth": 0,
             "ticks": ""
            },
            "colorscale": [
             [
              0,
              "#0d0887"
             ],
             [
              0.1111111111111111,
              "#46039f"
             ],
             [
              0.2222222222222222,
              "#7201a8"
             ],
             [
              0.3333333333333333,
              "#9c179e"
             ],
             [
              0.4444444444444444,
              "#bd3786"
             ],
             [
              0.5555555555555556,
              "#d8576b"
             ],
             [
              0.6666666666666666,
              "#ed7953"
             ],
             [
              0.7777777777777778,
              "#fb9f3a"
             ],
             [
              0.8888888888888888,
              "#fdca26"
             ],
             [
              1,
              "#f0f921"
             ]
            ],
            "type": "surface"
           }
          ],
          "table": [
           {
            "cells": {
             "fill": {
              "color": "#EBF0F8"
             },
             "line": {
              "color": "white"
             }
            },
            "header": {
             "fill": {
              "color": "#C8D4E3"
             },
             "line": {
              "color": "white"
             }
            },
            "type": "table"
           }
          ]
         },
         "layout": {
          "annotationdefaults": {
           "arrowcolor": "#2a3f5f",
           "arrowhead": 0,
           "arrowwidth": 1
          },
          "autotypenumbers": "strict",
          "coloraxis": {
           "colorbar": {
            "outlinewidth": 0,
            "ticks": ""
           }
          },
          "colorscale": {
           "diverging": [
            [
             0,
             "#8e0152"
            ],
            [
             0.1,
             "#c51b7d"
            ],
            [
             0.2,
             "#de77ae"
            ],
            [
             0.3,
             "#f1b6da"
            ],
            [
             0.4,
             "#fde0ef"
            ],
            [
             0.5,
             "#f7f7f7"
            ],
            [
             0.6,
             "#e6f5d0"
            ],
            [
             0.7,
             "#b8e186"
            ],
            [
             0.8,
             "#7fbc41"
            ],
            [
             0.9,
             "#4d9221"
            ],
            [
             1,
             "#276419"
            ]
           ],
           "sequential": [
            [
             0,
             "#0d0887"
            ],
            [
             0.1111111111111111,
             "#46039f"
            ],
            [
             0.2222222222222222,
             "#7201a8"
            ],
            [
             0.3333333333333333,
             "#9c179e"
            ],
            [
             0.4444444444444444,
             "#bd3786"
            ],
            [
             0.5555555555555556,
             "#d8576b"
            ],
            [
             0.6666666666666666,
             "#ed7953"
            ],
            [
             0.7777777777777778,
             "#fb9f3a"
            ],
            [
             0.8888888888888888,
             "#fdca26"
            ],
            [
             1,
             "#f0f921"
            ]
           ],
           "sequentialminus": [
            [
             0,
             "#0d0887"
            ],
            [
             0.1111111111111111,
             "#46039f"
            ],
            [
             0.2222222222222222,
             "#7201a8"
            ],
            [
             0.3333333333333333,
             "#9c179e"
            ],
            [
             0.4444444444444444,
             "#bd3786"
            ],
            [
             0.5555555555555556,
             "#d8576b"
            ],
            [
             0.6666666666666666,
             "#ed7953"
            ],
            [
             0.7777777777777778,
             "#fb9f3a"
            ],
            [
             0.8888888888888888,
             "#fdca26"
            ],
            [
             1,
             "#f0f921"
            ]
           ]
          },
          "colorway": [
           "#636efa",
           "#EF553B",
           "#00cc96",
           "#ab63fa",
           "#FFA15A",
           "#19d3f3",
           "#FF6692",
           "#B6E880",
           "#FF97FF",
           "#FECB52"
          ],
          "font": {
           "color": "#2a3f5f"
          },
          "geo": {
           "bgcolor": "white",
           "lakecolor": "white",
           "landcolor": "white",
           "showlakes": true,
           "showland": true,
           "subunitcolor": "#C8D4E3"
          },
          "hoverlabel": {
           "align": "left"
          },
          "hovermode": "closest",
          "mapbox": {
           "style": "light"
          },
          "paper_bgcolor": "white",
          "plot_bgcolor": "white",
          "polar": {
           "angularaxis": {
            "gridcolor": "#EBF0F8",
            "linecolor": "#EBF0F8",
            "ticks": ""
           },
           "bgcolor": "white",
           "radialaxis": {
            "gridcolor": "#EBF0F8",
            "linecolor": "#EBF0F8",
            "ticks": ""
           }
          },
          "scene": {
           "xaxis": {
            "backgroundcolor": "white",
            "gridcolor": "#DFE8F3",
            "gridwidth": 2,
            "linecolor": "#EBF0F8",
            "showbackground": true,
            "ticks": "",
            "zerolinecolor": "#EBF0F8"
           },
           "yaxis": {
            "backgroundcolor": "white",
            "gridcolor": "#DFE8F3",
            "gridwidth": 2,
            "linecolor": "#EBF0F8",
            "showbackground": true,
            "ticks": "",
            "zerolinecolor": "#EBF0F8"
           },
           "zaxis": {
            "backgroundcolor": "white",
            "gridcolor": "#DFE8F3",
            "gridwidth": 2,
            "linecolor": "#EBF0F8",
            "showbackground": true,
            "ticks": "",
            "zerolinecolor": "#EBF0F8"
           }
          },
          "shapedefaults": {
           "line": {
            "color": "#2a3f5f"
           }
          },
          "ternary": {
           "aaxis": {
            "gridcolor": "#DFE8F3",
            "linecolor": "#A2B1C6",
            "ticks": ""
           },
           "baxis": {
            "gridcolor": "#DFE8F3",
            "linecolor": "#A2B1C6",
            "ticks": ""
           },
           "bgcolor": "white",
           "caxis": {
            "gridcolor": "#DFE8F3",
            "linecolor": "#A2B1C6",
            "ticks": ""
           }
          },
          "title": {
           "x": 0.05
          },
          "xaxis": {
           "automargin": true,
           "gridcolor": "#EBF0F8",
           "linecolor": "#EBF0F8",
           "ticks": "",
           "title": {
            "standoff": 15
           },
           "zerolinecolor": "#EBF0F8",
           "zerolinewidth": 2
          },
          "yaxis": {
           "automargin": true,
           "gridcolor": "#EBF0F8",
           "linecolor": "#EBF0F8",
           "ticks": "",
           "title": {
            "standoff": 15
           },
           "zerolinecolor": "#EBF0F8",
           "zerolinewidth": 2
          }
         }
        },
        "title": {
         "font": {
          "color": "Black",
          "size": 22
         },
         "text": "Topic Word Scores",
         "x": 0.5,
         "xanchor": "center",
         "yanchor": "top"
        },
        "width": 1000,
        "xaxis": {
         "anchor": "y",
         "domain": [
          0,
          0.175
         ],
         "showgrid": true
        },
        "xaxis10": {
         "anchor": "y10",
         "domain": [
          0.275,
          0.45
         ],
         "showgrid": true
        },
        "xaxis11": {
         "anchor": "y11",
         "domain": [
          0.55,
          0.7250000000000001
         ],
         "showgrid": true
        },
        "xaxis12": {
         "anchor": "y12",
         "domain": [
          0.825,
          1
         ],
         "showgrid": true
        },
        "xaxis2": {
         "anchor": "y2",
         "domain": [
          0.275,
          0.45
         ],
         "showgrid": true
        },
        "xaxis3": {
         "anchor": "y3",
         "domain": [
          0.55,
          0.7250000000000001
         ],
         "showgrid": true
        },
        "xaxis4": {
         "anchor": "y4",
         "domain": [
          0.825,
          1
         ],
         "showgrid": true
        },
        "xaxis5": {
         "anchor": "y5",
         "domain": [
          0,
          0.175
         ],
         "showgrid": true
        },
        "xaxis6": {
         "anchor": "y6",
         "domain": [
          0.275,
          0.45
         ],
         "showgrid": true
        },
        "xaxis7": {
         "anchor": "y7",
         "domain": [
          0.55,
          0.7250000000000001
         ],
         "showgrid": true
        },
        "xaxis8": {
         "anchor": "y8",
         "domain": [
          0.825,
          1
         ],
         "showgrid": true
        },
        "xaxis9": {
         "anchor": "y9",
         "domain": [
          0,
          0.175
         ],
         "showgrid": true
        },
        "yaxis": {
         "anchor": "x",
         "domain": [
          0.7555555555555555,
          1
         ],
         "showgrid": true
        },
        "yaxis10": {
         "anchor": "x10",
         "domain": [
          0,
          0.24444444444444446
         ],
         "showgrid": true
        },
        "yaxis11": {
         "anchor": "x11",
         "domain": [
          0,
          0.24444444444444446
         ],
         "showgrid": true
        },
        "yaxis12": {
         "anchor": "x12",
         "domain": [
          0,
          0.24444444444444446
         ],
         "showgrid": true
        },
        "yaxis2": {
         "anchor": "x2",
         "domain": [
          0.7555555555555555,
          1
         ],
         "showgrid": true
        },
        "yaxis3": {
         "anchor": "x3",
         "domain": [
          0.7555555555555555,
          1
         ],
         "showgrid": true
        },
        "yaxis4": {
         "anchor": "x4",
         "domain": [
          0.7555555555555555,
          1
         ],
         "showgrid": true
        },
        "yaxis5": {
         "anchor": "x5",
         "domain": [
          0.37777777777777777,
          0.6222222222222222
         ],
         "showgrid": true
        },
        "yaxis6": {
         "anchor": "x6",
         "domain": [
          0.37777777777777777,
          0.6222222222222222
         ],
         "showgrid": true
        },
        "yaxis7": {
         "anchor": "x7",
         "domain": [
          0.37777777777777777,
          0.6222222222222222
         ],
         "showgrid": true
        },
        "yaxis8": {
         "anchor": "x8",
         "domain": [
          0.37777777777777777,
          0.6222222222222222
         ],
         "showgrid": true
        },
        "yaxis9": {
         "anchor": "x9",
         "domain": [
          0,
          0.24444444444444446
         ],
         "showgrid": true
        }
       }
      }
     },
     "metadata": {},
     "output_type": "display_data"
    }
   ],
   "source": [
    "topic_model.visualize_topics()\n",
    "topic_model.visualize_barchart(top_n_topics=10)\n"
   ]
  },
  {
   "cell_type": "code",
   "execution_count": 8,
   "metadata": {},
   "outputs": [
    {
     "name": "stdout",
     "output_type": "stream",
     "text": [
      "['ever wondered extremism seems rise countries course last decade ever wondered situation turned around ever looked arab uprisings thought could predicted could better prepared well personal story personal journey brings ted stage today demonstration exactly happening countries course last decades least beyond want share story also ideas around change role social movements creating change societies let begin first giving brief history time may indulge medieval societies defined allegiances identity defined primarily religion moved era 19th century rise european identities allegiances defined ethnicity identity primarily defined ethnicity reflected age globalization moved call era citizenship people could backgrounds equal citizens state could could could believe moving new age age new york times dubbed recently age behavior define age behavior period transnational allegiances identity defined ideas narratives ideas narratives bump people across borders increasingly beginning affect way people behave necessarily good news also belief hatred gone global much love actually belief people truly capitalizing age behavior recent times last six months people capitalizing age behavior transnational allegiances using digital activism sorts borderless technologies benefiting extremists something like elaborate look islamists look phenomenon fascists one thing good one thing actually exceeding communicating across borders using technologies organize propagate message create truly global phenomena know 13 years life involved extreme islamist organization actually potent force spreading ideas across borders witnessed rise islamist extremism distinct islam faith way influenced across world story personal story truly evidence age behavior attempting elaborate upon way essex lad born raised essex anyone england knows reputation essex born essex age 16 joined organization age 17 recruiting people cambridge university organization age 19 national leadership organization age 21 organization pakistan age 22 organization denmark age 24 found convicted prison egypt blacklisted three countries world attempting overthrow governments subjected torture egyptian jails sentenced five years prisoner conscience journey took essex way across world way laughing democratic activists felt age yesteryear felt date learned use email extremist organization used learned effectively communicate across borders without detected eventually detected course egypt way learned use technology advantage within extremist organization forced think beyond confines age behavior ideas narratives increasingly defining behavior identity allegiances said looked status quo ridiculed islamist extremists even look across mood music europe late fascism also rise form rhetoric also rise transnational consequences affecting political climate across europe actually happening previously localized parochialisms individual groupings extremists isolated one another become interconnected globalized way thus become becoming mainstream internet connection technologies connecting across world look rise fascism across europe late see things happening influencing domestic politics yet phenomenon transnational certain countries mosque minarets banned others headscarves banned others kosher halal meat banned speak flip side transnational islamist extremists thing across societies pockets parochialism connected way makes feel like mainstream never would possible would felt isolated sorts technologies came around connected way made feel part larger phenomenon leave democracy aspirants well believe getting left far behind give example stage remembers christmas day bomb plot man called anwar american citizen ethnically yemeni hiding currently yemen inspired nigerian son head nigeria national bank nigerian student studied london trained yemen boarded flight amsterdam attack america meanwhile old mentality capital represented father head nigerian bank warning cia son attack warning fell deaf ears old mentality capital represented yet fully age behavior recognizing power transnational social movements got left behind christmas day bomber almost succeeded attacking united states america example far right find ironically xenophobic nationalists utilizing benefits globalization succeeding democracy aspirants falling behind well need understand power social movements understand social movement comprised view comprised four main characteristics comprised ideas narratives symbols leaders talk one example example everyone aware example asked think ideas something comes mind immediately ask think narratives west war islam need defend islam west narratives come mind immediately incidentally difference ideas narratives idea cause one believes narrative way sell cause propaganda like cause ideas narratives come mind immediately ask think symbols leaders come mind immediately one leaders killed pakistan recently symbols leaders come mind immediately power social movements transnational bond around ideas narratives symbols leaders however ask minds focus currently pakistan ask think symbols leaders democracy pakistan today hard pressed think beyond perhaps assassination benazir bhutto means definition particular leader longer exists one problems facing view globalized grassroots social movements advocating democratic culture across societies equivalent without terrorism democracy across societies ideas narratives leaders symbols advocating democratic culture ground begs next question extremist organizations whether islamist extremism islamism meaning wish impose one version islam rest society succeeding organizing globalized way whereas aspire democratic culture falling behind believe four reasons believe number one complacency aspire democratic culture power societies leading globalized powerful societies powerful countries level complacency means feel need advocate culture second believe political correctness hesitation espousing universality democratic culture associating associate believing universality values extremists yet actually whenever talk human rights say human rights universal actually going propagate view associated either neoconservativism islamist extremism go around saying believe democratic culture best arrived form political organizing associated extremism third democratic choice societies relegated political choice meaning political parties many societies ask people vote democratic party parties ask vote military party wanting rule military dictatorship third party saying vote us establish theocracy democracy become merely one political choice among many forms political choices available societies happens result parties elected inevitably fail inevitably make political mistakes democracy takes blame political mistakes people say tried democracy really work let bring military back fourth reason believe labeled slide ideology resistance mean world superpower today communist would much easier democracy activists use democracy activism form resistance colonialism today world superpower america occupying certain lands also espousing democratic ideals roughly four reasons make lot difficult democratic culture spread civilizational choice merely political choice talking reasons let break certain preconceptions grievances lack education well statistically majority join extremist organizations highly educated statistically educated average education levels western society anecdotally demonstrate poverty factor well bin laden one richest families saudi arabia deputy ayman pediatrician man international aid development going years extremism societies many societies rise believe missing genuine grassroots activism ground addition international aid addition education addition health exclusive things addition propagating genuine demand democracy ground believe neoconservatism neoconservatism philosophy go approach impose democratic values top whereas islamists organizations decades building demand ideology grassroots building civilizational demand values grassroots seeing societies slowly transition societies increasingly asking form islamism mass movements pakistan represented arab uprisings mainly organizations claiming form theocracy rather democratic uprising since building demand ideology ground needed genuine transnational movement works actively advocate democratic culture necessarily elections without freedom speech ca free fair elections without human rights protection granted campaign without freedom belief right join organizations needed organizations ground advocating democratic culture create demand ground culture avoid problem talking earlier currently political parties presenting democracy merely political choice societies alongside choices military rule theocracy whereas start building demand ground civilizational level rather merely political level level politics movements political parties rather creating civilizational demand democratic culture end ideal see slide ideal people vote existing democracy democracy get stage democracy builds fabric society political choices within fabric certainly theocratic military dictatorship voting democracy existing democracy democracy merely one choices ballot box get stage genuinely need start building demand societies ground conclude happen well egypt good starting point arab uprisings demonstrated already beginning happened arab uprisings happened egypt particularly cathartic happened political coalition gathered together political goal remove leader need move one step beyond need see help societies move political coalitions loosely based political coalitions civilizational coalitions working ideals narratives democratic culture ground enough remove leader ruler dictator guarantee comes next society built democratic values generally trends start egypt historically spread across mena region middle east north africa region arab socialism started egypt spread across region islamism started region spread across mena region whole aspiration moment young arabs proving today instantly rebranding prepared die terrorism chance democratic culture start region spread across rest countries surrounding require helping societies transition merely political coalitions building genuinely social movements advocate democratic culture made start pakistan movement called khudi working ground encourage youth create genuine democratic culture thought end time thank time applause', 'salaam namaskar good morning given ted profile might expecting going speak latest philanthropic trends one currently got wall street world bank buzzing invest women empower save interested women saving us saving us redefining future defies blurs accepted polarities polarities taken granted long time like ones modernity tradition first world third world oppression opportunity midst daunting challenges face global community something third way raga making heart sing intrigues women despite set paradoxes frustrating fascinating women one hand viciously oppressed cultural practices yet time preservers cultures societies hijab headscarf symbol submission resistance many women girls beaten raped maimed daily basis name kinds causes honor religion nationality allows women replant trees rebuild societies lead radical movements social change different women preserving radicalizing one guilty chimamanda adichie reminded us ted conference oxford assuming single story women struggles rights fact many anything men much life quest get answers questions taken across globe introduced amazing people process gathered fragments help shed light puzzle among helped open eyes third way devout muslim afghanistan group harmonizing lesbians croatia taboo breaker liberia indebted parents set misdemeanors last life blessed three daughters one reasons equally unclear seem inordinately proud three us born raised india learned early age deeply suspicious aunties uncles would bend pat us head say parents problem poor things three daughters young could still try sense outrage women rights brought boil aunt incredibly articulate brilliant woman widowed early flock relatives descended took colorful sari made wear white one wiped bindi forehead broke bangles daughter rani years older sat lap bewildered knowing happened confident woman knew mother late night heard mother begging father please something ramu ca intervene father low voice muttering youngest brother nothing tradition night learned rules means female world women make rules define us define opportunities chances men affected rules father fought three wars could save sister suffering 18 excellent tutelage mother therefore might expect defiantly feminist streets chanting hindi hindi women india flowers sparks change time got beijing 1995 clear way achieve gender equality overturn centuries oppressive tradition soon returned beijing leapt chance work wonderful organization founded women support women rights organizations around globe barely six months new job met woman forced challenge assumptions name sakena yacoobi walked office time one knew afghanistan united states said burka determined advocate women rights ever heard told women running underground schools communities inside afghanistan organization afghan institute learning started school pakistan said first thing anyone muslim knows koran requires strongly supports literacy prophet wanted every believer able read koran heard right women rights advocate invoking religion sakena defies labels always wears headscarf walked alongside beach long hair flying breeze starts every lecture prayer single feisty financially independent woman country girls married age also immensely pragmatic headscarf clothes says give freedom need speak whose support assistance critical work open school refugee camp went see imam told believer women children terrible conditions need faith survive smiles slyly flattered began come twice week center women could go mosque would leave women girls would stay behind began small literacy class read koran math class english class computer classes weeks everyone refugee camp classes sakena teacher time educate women dangerous business afghanistan taliban hit list worry every time travels across country shrugs ask safety kavita jaan allow afraid look young girls go back school acid thrown face smile nod realizing watching women girls using religious traditions practices turning instruments opposition opportunity path looks towards afghanistan different different something women lesbor zagreb croatia know well lesbian dyke homosexual parts world including right country india occupy place immense discomfort extreme prejudice societies like croatia religiosity created environment unbearable anyone might considered social outcast enter group dykes young women love old music spread across region macedonia bosnia serbia slovenia folk singers met college gender studies program many 20s mothers many struggled come communities families whose religious beliefs make hard accept daughters sick queer leah one founders group says like traditional music much also like rock roll lesbor blend two see traditional music like kind rebellion people really speak voice especially traditional songs parts former yugoslav republic war lots songs lost part childhood history forget improbably lgbt singing choir demonstrated women investing tradition create change like alchemists turning discord harmony repertoire includes croatian national anthem bosnian love song serbian duets leah adds grin kavita especially proud christmas music shows open religious practices even though catholic church hates us lgbt concerts draw communities yes also older generation generation might suspicious homosexuality nostalgic music past represents one father initially balked daughter coming choir writes songs middle ages troubadours would travel across land singing tales sharing verses lesbor travels balkans like singing connecting people divided religion nationality language bosnians croats serbs find rare shared space pride history lesbor reminds songs one group often claims alone really belong singing yesterday mallika sarabhai showed us music create world accepting difference one given world leymah gbowee given world war liberia torn apart civil strife decades leymah activist mother three sick worry worried son would abducted taken child soldier worried daughters would raped worried lives one night dream dreamt thousands women ended bloodshed next morning church asked others felt tired fighting need peace need leaders know rest peace among leymah friends policewoman muslim promised raise issue community next friday sermon women sitting side room mosque began share distress state affairs matter said bullet distinguish muslim christian small group women determined bring end war chose use traditions make point liberian women usually wear lots jewelry colorful clothing protest dressed white makeup leymah said wore white saying peace stood side road charles taylor motorcade passed every day stood weeks first 10 20 50 hundreds women wearing white singing dancing saying peace eventually opposing forces liberia pushed hold peace talks ghana peace talks dragged leymah sisters enough remaining funds took small group women venue peace talks surrounded building famous cnn clip see sitting ground arms linked know india called hindi things get tense police called physically remove women senior officer approaches baton leymah stands deliberation reaches arms head begins slowly untie headdress covers hair see policeman face looks embarrassed backs away next thing know police disappeared leymah said later taboo know west africa older woman undresses front man wants man family cursed laughter applause said know believed knew going leave going leave peace accord signed peace accord signed women liberia mobilized support ellen johnson sirleaf woman broke taboos becoming first elected woman head state africa years made presidential address acknowledged brave women liberia allowed win football star soccer americans less women like sakena leah leymah humbled changed made realize quick jump assumptions kind also saved righteous anger offering insights third way filipina activist said cook rice cake heat bottom heat top protests marches uncompromising position women rights human rights full stop heat bottom malcolm x suffragists gay pride parades also need heat top parts world top still controlled men paraphrase marx women make change circumstances choosing negotiate subvert tradition silenced order give voice new aspirations need allies communities allies like imam allies like father writes songs lesbian group croatia allies like policeman honored taboo backed away allies like father could help sister helped three daughters pursue dreams maybe feminism unlike almost every social movement struggle distinct oppressor ruling class occupiers colonizers deeply held set beliefs assumptions women far often hold perhaps ultimate gift feminism personal fact political eleanor roosevelt said human rights true gender equality starts small places close home streets yes also negotiations kitchen table marital bed relationships lovers parents sisters friends realize integrating aspects tradition community struggles women like sakena leah leymah also women like sonia gandhi india michelle bachelet chile shirin ebadi iran something else challenging notion western models development saying like make change wear sari hijab pants boubou party leaders presidents human rights lawyers use tradition navigate change demilitarize societies pour resources instead reservoirs genuine security little stories individual stories see radical epic written women around world threads woven resilient fabric sustain communities find hope heart singing little fragments every catch glimpse whole whole new world definitely way thank applause', 'could protect father armed islamic group paring knife question faced one tuesday morning june 1993 law student woke early morning dad apartment outskirts algiers algeria unrelenting pounding front door season described local paper every tuesday scholar fell bullets fundamentalist assassins father university teaching darwin already provoked classroom visit head islamic salvation front denounced dad advocate biologism dad ejected man whoever outside would neither identify go away father tried get police phone perhaps terrified rising tide armed extremism already claimed lives many algerian officers even answer went kitchen got paring knife took position inside entryway ridiculous thing really could think anything else stood look back think moment set path writing book called fatwa apply untold stories fight muslim fundamentalism title comes pakistani play think actually moment sent journey interview 300 people muslim heritage nearly 30 countries afghanistan mali find fought fundamentalism peacefully like father coped attendant risks luckily back june 1993 unidentified visitor went away families much less lucky thought motivated research case someone would return months later leave note dad kitchen table simply said consider dead subsequently algeria fundamentalist armed groups would murder many civilians came known dark decade 1990s including every single one women see harsh counterterrorist response state resorted torture forced disappearances terrible events became international community largely ignored finally father algerian peasant son turned professor forced stop teaching university flee apartment never forget mahfoud bennoune dad like many algerian intellectuals refused leave country continued publish pointed criticisms fundamentalists sometimes government battled example november 1994 series newspaper el watan entitled fundamentalism produced terrorism without precedent denounced called terrorists radical break true islam lived ancestors words could get killed father country taught dark decade 1990s popular struggle muslim fundamentalism one important overlooked human rights struggles world remains true today nearly 20 years later see every country hear armed jihadis targeting civilians also unarmed people defying militants hear people need support succeed west often assumed muslims generally condone terrorism right think view muslim culture inherently violent left imagine view muslim violence fundamentalist violence solely product legitimate grievances views dead wrong fact many people muslim heritage around world staunch opponents fundamentalism terrorism often good reason see much likely victims violence perpetrators let give one example according 2009 survey arabic language media resources 2004 2008 15 percent al qaeda victims westerners terrible toll vast majority people muslim heritage killed muslim fundamentalists talking last five minutes fundamentalism right know exactly mean cite definition given algerian sociologist marieme helie lucas says fundamentalisms note within world great religious traditions fundamentalisms political movements extreme right context globalization manipulate religion order achieve political aims sadia abbas called radical politicization theology want avoid projecting notion sort monolith called muslim fundamentalism everywhere movements also diversities use advocate violence though often interrelated take different forms may organizations even britain like cageprisoners may become political parties like muslim brotherhood may openly armed groups like taliban case radical projects conservative traditional approaches often changing people relationship islam rather preserving talking muslim extreme right fact adherents purport muslim makes less offensive extreme right anywhere else view consider liberal human feminist must oppose movements support grassroots opponents let clear support effective struggle fundamentalism also struggle must respect international law nothing saying taken justification refusals democratize send support movement algeria today barakat anything say taken justification violations human rights like mass death sentences handed egypt earlier week saying must challenge muslim fundamentalist movements threaten human rights across contexts range ways obviously direct attacks civilians armed groups carry violence tip iceberg movements whole purvey discrimination religious minorities sexual minorities seek curtail freedom religion everyone either practices different way chooses practice definingly lead war rights women faced movements recent years western discourse often offered two flawed responses first one sometimes finds right suggests muslims fundamentalist something islam inherently fundamentalist offensive wrong unfortunately left one sometimes encounters discourse politically correct acknowledge problem muslim fundamentalism even worse apologizes unacceptable well seeking new way talking together grounded lived experiences hope people front lines painfully aware increase discrimination muslims recent years countries like matter grave concern firmly believe telling stories people muslim heritage confronted fundamentalists primary victims also great way countering discrimination let introduce four people whose stories great honor telling faizan peerzada rafi peer theatre workshop named father years promoted performing arts pakistan rise jihadist violence began receive threats call events refused heed bomber struck 2008 eighth world performing arts festival lahore producing rain glass fell venue injuring nine people later night peerzadas made difficult decision announced festival would continue planned next day faizan said time bow islamists sitting dark corner know would happen would anyone come fact thousands people came next day support performing arts lahore simultaneously thrilled terrified faizan ran woman come two small children said know bomb yesterday know threat today said know came festival mother age still images mind stalwart audiences like peerzadas able conclude festival schedule next year lost sponsors due security risk met 2010 middle first subsequent event able venue ninth youth performing arts festival held lahore year city already experienced 44 terror attacks time pakistani taliban commenced systematic targeting girls schools would culminate attack malala yousafzai peerzadas environment staged girls school theater privilege watching naang wal musical punjabi language girls lahore grammar school played parts sang danced played mice water buffalo held breath wondering would get end amazing show whole audience collectively exhaled people actually wept filled auditorium peaceful boom applause remember thinking moment bombers made headlines two years night people important story maria bashir first woman chief prosecutor afghanistan post since 2008 actually opened office investigate cases violence women says important area mandate meet office herat enters surrounded four large men four huge guns fact 23 bodyguards weathered bomb attacks nearly killed kids took leg one guards continue says smile question everyone puts risk living simply better future maria bashirs come worth risk knows people like take risk better future later interview prosecutor bashir tells worried possible outcome government negotiations taliban people trying kill give place government asks protect women rights urges international community forget promise women want peace taliban weeks leave afghanistan see headline internet afghan prosecutor assassinated google desperately thankfully day find maria victim though sadly another afghan prosecutor gunned way work hear headlines like think international troops leave afghanistan year beyond must continue care happens people maria bashirs sometimes still hear voice head saying bravado whatsoever situation women afghanistan better someday prepare ground even killed words adequate denounce al shabaab terrorists attacked westgate mall nairobi day children cooking competition september killed 67 including poets pregnant women far away american midwest good fortune meeting working counter efforts al shabaab recruit small number young people city minneapolis take part atrocities like westgate abdirizak bihi studious nephew burhan hassan recruited 2008 spirited somalia killed tried come home since time bihi directs somali education advocacy center vocally denouncing recruitment failures government institutions like abubakar islamic center believes nephew radicalized youth program criticize mosque also takes government failure prevent poverty community given lack financial resources bihi creative counter efforts al shabaab sway disaffected youth wake group 2010 attack world cup viewers uganda organized ramadan basketball tournament minneapolis response scores kids came embrace sport despite fatwa played basketball burhan hassan never would efforts bihi ostracized leadership abubakar islamic center used good relations told one day saw imam tv calling us infidels saying families trying destroy mosque complete odds abdirizak bihi understands trying exposing al shabaab recruitment save religion love small number extremists want tell one last story law student algeria named amel dreams legal career back refused give studies despite fact fundamentalists battling algerian state back threatened continued education january 26 1997 amel boarded bus algiers studying go home spend ramadan evening family would never finish law school bus reached outskirts hometown stopped checkpoint manned men armed islamic group carrying schoolbag amel taken bus killed street men cut throat told everyone else go university day come kill like amel died exactly know fell street watch broke mother showed watch second hand still aimed optimistically upward towards would never come shortly death amel said mother sisters nothing happen us inshallah god willing something happens must know dead knowledge father must keep heads held high loss young woman unfathomable research found searching amel hope name even means hope arabic think found two places first strength family families continue telling stories go lives despite terrorism fact amel sister lamia overcame grief went law school practices lawyer algiers today something possible armed fundamentalists largely defeated country second place found amel hope everywhere women men continue defy jihadis must support honor amel continue human rights struggle today like network women living muslim laws enough victims rights advocate cherifa kheddar told algiers enough battle terrorism must also challenge fundamentalism fundamentalism ideology makes bed terrorism people like like well known everyone knows osama bin laden know standing bin ladens contexts must change ask please help share stories networks look amel zenoune watch forever frozen please look watch decide moment commit supporting people like amel right silent easier western policy flawed well still coming many amel zenounes places like northern nigeria jihadis still kill students time speak support peacefully challenge fundamentalism terrorism communities thank applause']\n"
     ]
    }
   ],
   "source": [
    "topic_docs = topic_model.get_representative_docs(0)  # Get documents for Topic 3\n",
    "print(topic_docs)\n"
   ]
  },
  {
   "cell_type": "markdown",
   "metadata": {},
   "source": [
    "# Trial 3 with tweets on climate change from Kaggle"
   ]
  },
  {
   "cell_type": "code",
   "execution_count": null,
   "metadata": {},
   "outputs": [
    {
     "name": "stderr",
     "output_type": "stream",
     "text": [
      "[nltk_data] Downloading package stopwords to\n",
      "[nltk_data]     C:\\Users\\HUAWEI\\AppData\\Roaming\\nltk_data...\n",
      "[nltk_data]   Package stopwords is already up-to-date!\n",
      "[nltk_data] Downloading package punkt to\n",
      "[nltk_data]     C:\\Users\\HUAWEI\\AppData\\Roaming\\nltk_data...\n",
      "[nltk_data]   Package punkt is already up-to-date!\n"
     ]
    }
   ],
   "source": [
    "import pandas as pd\n",
    "from bertopic import BERTopic\n",
    "from sklearn.feature_extraction.text import CountVectorizer\n",
    "from nltk.corpus import stopwords\n",
    "from nltk.tokenize import word_tokenize\n",
    "import nltk\n",
    "\n",
    "# Ensure NLTK resources are downloaded\n",
    "nltk.download('stopwords')\n",
    "nltk.download('punkt')\n",
    "\n",
    "# Define stopwords\n",
    "stop_words = set(stopwords.words('english'))\n",
    "\n",
    "# Preprocessing function\n",
    "def preprocess_text(doc):\n",
    "    tokens = word_tokenize(doc.lower())  # Tokenize and convert to lowercase\n",
    "    return ' '.join(word for word in tokens if word.isalnum() and word not in stop_words)\n",
    "\n",
    "# Load the CSV file\n",
    "file_path = r\"D:\\dev\\annotate\\Automated-text-annotation\\twitter_sentiment_data.csv\"\n",
    "df = pd.read_csv(file_path)\n",
    "\n",
    "# Ensure the column containing tweets is correctly identified\n",
    "tweet_column = \"message\"\n",
    "tweets = df[tweet_column].astype(str).tolist()\n",
    "\n",
    "# Preprocess tweets\n",
    "preprocessed_tweets = [preprocess_text(tweet) for tweet in tweets]\n",
    "\n",
    "# Initialize BERTopic with a custom vectorizer\n",
    "vectorizer = CountVectorizer(stop_words='english', max_df=0.95, min_df=5, max_features=10000)\n",
    "topic_model = BERTopic(vectorizer_model=vectorizer)\n",
    "\n",
    "# Fit BERTopic to the preprocessed tweets\n",
    "topics, probs = topic_model.fit_transform(preprocessed_tweets)\n",
    "\n",
    "# View topic information\n",
    "topic_info = topic_model.get_topic_info()\n",
    "print(topic_info)\n",
    "\n",
    "# Visualize topics\n",
    "topic_model.visualize_topics().show()\n"
   ]
  }
 ],
 "metadata": {
  "kernelspec": {
   "display_name": "annotate",
   "language": "python",
   "name": "python3"
  },
  "language_info": {
   "codemirror_mode": {
    "name": "ipython",
    "version": 3
   },
   "file_extension": ".py",
   "mimetype": "text/x-python",
   "name": "python",
   "nbconvert_exporter": "python",
   "pygments_lexer": "ipython3",
   "version": "3.10.15"
  }
 },
 "nbformat": 4,
 "nbformat_minor": 2
}
